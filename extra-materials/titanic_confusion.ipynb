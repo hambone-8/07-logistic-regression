{
 "cells": [
  {
   "cell_type": "markdown",
   "metadata": {},
   "source": [
    "# Logistic regression exercise with Titanic data"
   ]
  },
  {
   "cell_type": "markdown",
   "metadata": {},
   "source": [
    "## Introduction\n",
    "\n",
    "- Data from Kaggle's Titanic competition: [data](https://github.com/justmarkham/DAT8/blob/master/data/titanic.csv), [data dictionary](https://www.kaggle.com/c/titanic/data)\n",
    "- **Goal**: Predict survival based on passenger characteristics\n",
    "- `titanic.csv` is already in our repo, so there is no need to download the data from the Kaggle website"
   ]
  },
  {
   "cell_type": "code",
   "execution_count": null,
   "metadata": {
    "ExecuteTime": {
     "end_time": "2021-07-22T05:26:16.640261Z",
     "start_time": "2021-07-22T05:26:16.609083Z"
    }
   },
   "outputs": [],
   "source": [
    "import pandas as pd\n",
    "import numpy as np\n",
    "from sklearn.model_selection import train_test_split\n",
    "\n",
    "# Import the other modules you might need\n",
    "\n"
   ]
  },
  {
   "cell_type": "markdown",
   "metadata": {},
   "source": [
    "## Step 1: Read the data into Pandas"
   ]
  },
  {
   "cell_type": "code",
   "execution_count": null,
   "metadata": {
    "ExecuteTime": {
     "end_time": "2021-07-22T04:49:49.677317Z",
     "start_time": "2021-07-22T04:49:49.649267Z"
    }
   },
   "outputs": [],
   "source": [
    "#url = 'https://raw.githubusercontent.com/justmarkham/DAT8/master/data/titanic.csv'\n",
    "\n",
    "url = '../data/titanic.csv'\n",
    "titanic_df = pd.read_csv(url, index_col='PassengerId')\n",
    "titanic_df.head()"
   ]
  },
  {
   "cell_type": "markdown",
   "metadata": {},
   "source": [
    "## Step 2: Create X and y\n",
    "\n",
    "Define **Pclass** and **Parch** as the features, and **Survived** as the response."
   ]
  },
  {
   "cell_type": "code",
   "execution_count": null,
   "metadata": {
    "ExecuteTime": {
     "end_time": "2021-07-22T04:50:21.526161Z",
     "start_time": "2021-07-22T04:50:21.521021Z"
    }
   },
   "outputs": [],
   "source": [
    "# set up data\n",
    "X = \n",
    "y = "
   ]
  },
  {
   "cell_type": "markdown",
   "metadata": {},
   "source": [
    "## Step 3: Split the data into training and testing sets"
   ]
  },
  {
   "cell_type": "code",
   "execution_count": null,
   "metadata": {
    "ExecuteTime": {
     "end_time": "2021-07-22T04:51:15.820734Z",
     "start_time": "2021-07-22T04:51:15.815141Z"
    }
   },
   "outputs": [],
   "source": [
    "# set up train and test data - use a 80/20 split, and set a random state\n",
    "\n"
   ]
  },
  {
   "cell_type": "markdown",
   "metadata": {},
   "source": [
    "## Step 4: Fit a logistic regression model and examine the coefficients\n",
    "\n",
    "Confirm that the coefficients make intuitive sense."
   ]
  },
  {
   "cell_type": "code",
   "execution_count": null,
   "metadata": {
    "ExecuteTime": {
     "end_time": "2021-07-22T04:53:07.878056Z",
     "start_time": "2021-07-22T04:53:07.859489Z"
    }
   },
   "outputs": [],
   "source": [
    "# build a logistic regression model\n",
    "\n"
   ]
  },
  {
   "cell_type": "markdown",
   "metadata": {},
   "source": [
    "## Step 5: Make predictions on the testing set and calculate the accuracy"
   ]
  },
  {
   "cell_type": "code",
   "execution_count": null,
   "metadata": {
    "ExecuteTime": {
     "end_time": "2021-07-22T04:53:52.895238Z",
     "start_time": "2021-07-22T04:53:52.890757Z"
    }
   },
   "outputs": [],
   "source": [
    "# class predictions (not predicted probabilities)\n",
    "y_pred = "
   ]
  },
  {
   "cell_type": "code",
   "execution_count": null,
   "metadata": {
    "ExecuteTime": {
     "end_time": "2021-07-22T04:59:57.727007Z",
     "start_time": "2021-07-22T04:59:57.720103Z"
    }
   },
   "outputs": [],
   "source": [
    "# calculate classification accuracy\n",
    "\n",
    "acc = \n",
    "\n",
    "print(f'Accuracy: {acc}')\n",
    "\n"
   ]
  },
  {
   "cell_type": "markdown",
   "metadata": {},
   "source": [
    "## Step 6: Compare your testing accuracy to the null accuracy"
   ]
  },
  {
   "cell_type": "code",
   "execution_count": null,
   "metadata": {
    "ExecuteTime": {
     "end_time": "2021-07-22T05:03:43.506518Z",
     "start_time": "2021-07-22T05:03:43.459541Z"
    }
   },
   "outputs": [],
   "source": [
    "# this works regardless of the number of classes\n",
    "# We need to determine the most frequent class in the test data.\n",
    "test_df = "
   ]
  },
  {
   "cell_type": "code",
   "execution_count": null,
   "metadata": {
    "ExecuteTime": {
     "end_time": "2021-07-22T05:27:00.532088Z",
     "start_time": "2021-07-22T05:27:00.519417Z"
    }
   },
   "outputs": [],
   "source": [
    "# this only works for binary classification problems coded as 0/1\n",
    "y_null = \n",
    "\n",
    "null_acc = \n",
    "\n",
    "print(f'Null Accuracy: {null_acc}' )"
   ]
  },
  {
   "cell_type": "markdown",
   "metadata": {},
   "source": [
    "# Confusion matrix of Titanic predictions"
   ]
  },
  {
   "cell_type": "code",
   "execution_count": null,
   "metadata": {
    "ExecuteTime": {
     "end_time": "2021-07-22T05:31:29.480086Z",
     "start_time": "2021-07-22T05:31:29.466742Z"
    }
   },
   "outputs": [],
   "source": [
    "# print confusion matrix - remember the order of elements in the confusion matrix\n",
    "\n",
    "# this is here as a reference for the confusion matrix\n",
    "confusion = np.array(\n",
    "        [['tn', 'fp'],\n",
    "         ['fn', 'tp']])\n",
    "\n",
    "print(f'Confusion Matrix: (defined) \\n {confusion}')\n"
   ]
  },
  {
   "cell_type": "code",
   "execution_count": null,
   "metadata": {
    "ExecuteTime": {
     "end_time": "2021-07-22T05:31:29.480086Z",
     "start_time": "2021-07-22T05:31:29.466742Z"
    }
   },
   "outputs": [],
   "source": [
    "\n",
    "#print out the confusion matrix for the titantic predictions\n",
    "cm = \n",
    "\n",
    "print(f'Confusion Matrix (def): \\n {cm}\\n')"
   ]
  },
  {
   "cell_type": "code",
   "execution_count": null,
   "metadata": {
    "ExecuteTime": {
     "end_time": "2021-07-22T05:32:03.602865Z",
     "start_time": "2021-07-22T05:32:03.596379Z"
    }
   },
   "outputs": [],
   "source": [
    "tn, fp, fn, tp = \n"
   ]
  },
  {
   "cell_type": "code",
   "execution_count": null,
   "metadata": {
    "ExecuteTime": {
     "end_time": "2021-07-22T05:33:52.391064Z",
     "start_time": "2021-07-22T05:33:52.386149Z"
    }
   },
   "outputs": [],
   "source": [
    "# calculate the sensitivity\n",
    "sensitivity = \n",
    "\n",
    "print(f'Sensitivity: {sensitivity}')"
   ]
  },
  {
   "cell_type": "code",
   "execution_count": null,
   "metadata": {
    "ExecuteTime": {
     "end_time": "2021-07-22T05:34:20.105656Z",
     "start_time": "2021-07-22T05:34:20.100446Z"
    }
   },
   "outputs": [],
   "source": [
    "# calculate the specificity\n",
    "specificity = \n",
    "\n",
    "print(f'Specificity: {specificity}')\n"
   ]
  },
  {
   "cell_type": "code",
   "execution_count": null,
   "metadata": {
    "ExecuteTime": {
     "end_time": "2021-07-22T05:35:47.766146Z",
     "start_time": "2021-07-22T05:35:47.760783Z"
    }
   },
   "outputs": [],
   "source": [
    "# store the predicted probabilities - use y_pred_prob as your variable\n",
    "y_pred_prob = \n"
   ]
  },
  {
   "cell_type": "code",
   "execution_count": null,
   "metadata": {
    "ExecuteTime": {
     "end_time": "2021-07-22T05:35:51.161411Z",
     "start_time": "2021-07-22T05:35:50.329191Z"
    }
   },
   "outputs": [],
   "source": [
    "# histogram of predicted probabilities\n",
    "%matplotlib inline\n",
    "import matplotlib.pyplot as plt\n",
    "plt.hist(y_pred_prob)\n",
    "plt.xlim(0, 1)\n",
    "plt.xlabel('Predicted probability of survival')\n",
    "plt.ylabel('Frequency')"
   ]
  },
  {
   "cell_type": "code",
   "execution_count": null,
   "metadata": {
    "ExecuteTime": {
     "end_time": "2021-07-22T05:38:43.994600Z",
     "start_time": "2021-07-22T05:38:43.990586Z"
    }
   },
   "outputs": [],
   "source": [
    "# increase sensitivity by lowering the threshold for predicting survival\n",
    "y_pred_sens = "
   ]
  },
  {
   "cell_type": "code",
   "execution_count": null,
   "metadata": {
    "ExecuteTime": {
     "end_time": "2021-07-22T05:38:52.572600Z",
     "start_time": "2021-07-22T05:38:52.565120Z"
    }
   },
   "outputs": [],
   "source": [
    "# old confusion matrix\n",
    "cm"
   ]
  },
  {
   "cell_type": "code",
   "execution_count": null,
   "metadata": {
    "ExecuteTime": {
     "end_time": "2021-07-22T05:38:58.848478Z",
     "start_time": "2021-07-22T05:38:58.839838Z"
    }
   },
   "outputs": [],
   "source": [
    "# new confusion matrix\n",
    "cm_new = \n",
    "cm_new"
   ]
  },
  {
   "cell_type": "code",
   "execution_count": null,
   "metadata": {
    "ExecuteTime": {
     "end_time": "2021-07-22T05:39:25.152173Z",
     "start_time": "2021-07-22T05:39:25.145889Z"
    }
   },
   "outputs": [],
   "source": [
    "# new sensitivity (higher than before)\n",
    "\n",
    "\n",
    "sens = \n",
    "\n",
    "print(f'Original Sensitivity: {sensitivity}')\n",
    "print(f'     New Sensitivity: {sens}')"
   ]
  },
  {
   "cell_type": "code",
   "execution_count": null,
   "metadata": {
    "ExecuteTime": {
     "end_time": "2021-07-22T05:39:47.034663Z",
     "start_time": "2021-07-22T05:39:47.028224Z"
    }
   },
   "outputs": [],
   "source": [
    "# new specificity (lower than before)\n",
    "specs= \n",
    "\n",
    "print(f'Original Specificity: {specificity}')\n",
    "print(f'     New Specificity: {specs}')"
   ]
  },
  {
   "cell_type": "markdown",
   "metadata": {},
   "source": [
    "**Question:** What did we prioritze when we lowered the threshold for survivability? That is, what confusion matrix element did we optimize?"
   ]
  },
  {
   "cell_type": "code",
   "execution_count": null,
   "metadata": {},
   "outputs": [],
   "source": [
    "#answer: "
   ]
  }
 ],
 "metadata": {
  "kernelspec": {
   "display_name": "Python 3",
   "language": "python",
   "name": "python3"
  },
  "language_info": {
   "codemirror_mode": {
    "name": "ipython",
    "version": 3
   },
   "file_extension": ".py",
   "mimetype": "text/x-python",
   "name": "python",
   "nbconvert_exporter": "python",
   "pygments_lexer": "ipython3",
   "version": "3.7.3"
  },
  "toc": {
   "base_numbering": 1,
   "nav_menu": {},
   "number_sections": true,
   "sideBar": true,
   "skip_h1_title": false,
   "title_cell": "Table of Contents",
   "title_sidebar": "Contents",
   "toc_cell": false,
   "toc_position": {},
   "toc_section_display": true,
   "toc_window_display": false
  }
 },
 "nbformat": 4,
 "nbformat_minor": 1
}
